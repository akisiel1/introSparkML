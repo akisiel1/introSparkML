{
 "cells": [
  {
   "cell_type": "code",
   "execution_count": 1,
   "metadata": {},
   "outputs": [
    {
     "data": {
      "text/html": [
       "<style scoped>\n",
       "  .ansiout {\n",
       "    display: block;\n",
       "    unicode-bidi: embed;\n",
       "    white-space: pre-wrap;\n",
       "    word-wrap: break-word;\n",
       "    word-break: break-all;\n",
       "    font-family: \"Source Code Pro\", \"Menlo\", monospace;;\n",
       "    font-size: 13px;\n",
       "    color: #555;\n",
       "    margin-left: 4px;\n",
       "    line-height: 19px;\n",
       "  }\n",
       "</style>\n",
       "<div class=\"ansiout\"></div>"
      ]
     },
     "metadata": {},
     "output_type": "display_data"
    }
   ],
   "source": [
    "from pyspark.ml.stat import Correlation\n",
    "from pyspark.ml.feature import VectorAssembler, OneHotEncoderEstimator, StringIndexer\n",
    "from pyspark.sql import SparkSession, DataFrame, functions as F\n",
    "from pyspark.ml.regression import LinearRegression\n",
    "from pyspark.ml.evaluation import RegressionEvaluator\n",
    "from pyspark.ml import Pipeline, Transformer\n",
    "from pyspark.ml.util import DefaultParamsReadable, DefaultParamsWritable, DefaultParamsReader \n",
    "from pyspark.ml import PipelineModel\n",
    "from pyspark.ml.param.shared import HasOutputCols, Param, Params, TypeConverters\n",
    "from pyspark import keyword_only"
   ]
  },
  {
   "cell_type": "code",
   "execution_count": 2,
   "metadata": {},
   "outputs": [
    {
     "data": {
      "text/html": [
       "<style scoped>\n",
       "  .ansiout {\n",
       "    display: block;\n",
       "    unicode-bidi: embed;\n",
       "    white-space: pre-wrap;\n",
       "    word-wrap: break-word;\n",
       "    word-break: break-all;\n",
       "    font-family: \"Source Code Pro\", \"Menlo\", monospace;;\n",
       "    font-size: 13px;\n",
       "    color: #555;\n",
       "    margin-left: 4px;\n",
       "    line-height: 19px;\n",
       "  }\n",
       "</style>\n",
       "<div class=\"ansiout\"></div>"
      ]
     },
     "metadata": {},
     "output_type": "display_data"
    }
   ],
   "source": [
    "spark.conf.set(\n",
    "  \"fs.azure.account.key.sparkmltrainig.blob.core.windows.net\",\n",
    "  \"<key>\")"
   ]
  },
  {
   "cell_type": "code",
   "execution_count": 3,
   "metadata": {},
   "outputs": [
    {
     "data": {
      "text/html": [
       "<style scoped>\n",
       "  .ansiout {\n",
       "    display: block;\n",
       "    unicode-bidi: embed;\n",
       "    white-space: pre-wrap;\n",
       "    word-wrap: break-word;\n",
       "    word-break: break-all;\n",
       "    font-family: \"Source Code Pro\", \"Menlo\", monospace;;\n",
       "    font-size: 13px;\n",
       "    color: #555;\n",
       "    margin-left: 4px;\n",
       "    line-height: 19px;\n",
       "  }\n",
       "</style>\n",
       "<div class=\"ansiout\">800\n",
       "91\n",
       "</div>"
      ]
     },
     "metadata": {},
     "output_type": "display_data"
    }
   ],
   "source": [
    "data = spark.read.csv(\"wasbs://data@sparkmltrainig.blob.core.windows.net/train.csv\", inferSchema = True, header = True)\n",
    "\n",
    "train_df, test_df = data.randomSplit([0.9, 0.1], seed=42)\n",
    "print(train_df.count())\n",
    "print(test_df.count())\n"
   ]
  },
  {
   "cell_type": "code",
   "execution_count": 4,
   "metadata": {},
   "outputs": [
    {
     "data": {
      "text/html": [
       "<style scoped>\n",
       "  .ansiout {\n",
       "    display: block;\n",
       "    unicode-bidi: embed;\n",
       "    white-space: pre-wrap;\n",
       "    word-wrap: break-word;\n",
       "    word-break: break-all;\n",
       "    font-family: \"Source Code Pro\", \"Menlo\", monospace;;\n",
       "    font-size: 13px;\n",
       "    color: #555;\n",
       "    margin-left: 4px;\n",
       "    line-height: 19px;\n",
       "  }\n",
       "</style>\n",
       "<div class=\"ansiout\">+-----------+--------+------+--------------------+------+----+-----+-----+----------------+-------+-----+--------+\n",
       "PassengerId|Survived|Pclass|                Name|   Sex| Age|SibSp|Parch|          Ticket|   Fare|Cabin|Embarked|\n",
       "+-----------+--------+------+--------------------+------+----+-----+-----+----------------+-------+-----+--------+\n",
       "          1|       0|     3|Braund, Mr. Owen ...|  male|22.0|    1|    0|       A/5 21171|   7.25| null|       S|\n",
       "          2|       1|     1|Cumings, Mrs. Joh...|female|38.0|    1|    0|        PC 17599|71.2833|  C85|       C|\n",
       "          3|       1|     3|Heikkinen, Miss. ...|female|26.0|    0|    0|STON/O2. 3101282|  7.925| null|       S|\n",
       "          4|       1|     1|Futrelle, Mrs. Ja...|female|35.0|    1|    0|          113803|   53.1| C123|       S|\n",
       "          6|       0|     3|    Moran, Mr. James|  male|null|    0|    0|          330877| 8.4583| null|       Q|\n",
       "          7|       0|     1|McCarthy, Mr. Tim...|  male|54.0|    0|    0|           17463|51.8625|  E46|       S|\n",
       "          8|       0|     3|Palsson, Master. ...|  male| 2.0|    3|    1|          349909| 21.075| null|       S|\n",
       "         10|       1|     2|Nasser, Mrs. Nich...|female|14.0|    1|    0|          237736|30.0708| null|       C|\n",
       "         11|       1|     3|Sandstrom, Miss. ...|female| 4.0|    1|    1|         PP 9549|   16.7|   G6|       S|\n",
       "         12|       1|     1|Bonnell, Miss. El...|female|58.0|    0|    0|          113783|  26.55| C103|       S|\n",
       "         13|       0|     3|Saundercock, Mr. ...|  male|20.0|    0|    0|       A/5. 2151|   8.05| null|       S|\n",
       "         14|       0|     3|Andersson, Mr. An...|  male|39.0|    1|    5|          347082| 31.275| null|       S|\n",
       "         15|       0|     3|Vestrom, Miss. Hu...|female|14.0|    0|    0|          350406| 7.8542| null|       S|\n",
       "         16|       1|     2|Hewlett, Mrs. (Ma...|female|55.0|    0|    0|          248706|   16.0| null|       S|\n",
       "         17|       0|     3|Rice, Master. Eugene|  male| 2.0|    4|    1|          382652| 29.125| null|       Q|\n",
       "         18|       1|     2|Williams, Mr. Cha...|  male|null|    0|    0|          244373|   13.0| null|       S|\n",
       "         19|       0|     3|Vander Planke, Mr...|female|31.0|    1|    0|          345763|   18.0| null|       S|\n",
       "         20|       1|     3|Masselmani, Mrs. ...|female|null|    0|    0|            2649|  7.225| null|       C|\n",
       "         21|       0|     2|Fynney, Mr. Joseph J|  male|35.0|    0|    0|          239865|   26.0| null|       S|\n",
       "         22|       1|     2|Beesley, Mr. Lawr...|  male|34.0|    0|    0|          248698|   13.0|  D56|       S|\n",
       "+-----------+--------+------+--------------------+------+----+-----+-----+----------------+-------+-----+--------+\n",
       "only showing top 20 rows\n",
       "\n",
       "</div>"
      ]
     },
     "metadata": {},
     "output_type": "display_data"
    }
   ],
   "source": [
    "train_df.show()"
   ]
  },
  {
   "cell_type": "code",
   "execution_count": 5,
   "metadata": {},
   "outputs": [
    {
     "data": {
      "text/html": [
       "<style scoped>\n",
       "  .ansiout {\n",
       "    display: block;\n",
       "    unicode-bidi: embed;\n",
       "    white-space: pre-wrap;\n",
       "    word-wrap: break-word;\n",
       "    word-break: break-all;\n",
       "    font-family: \"Source Code Pro\", \"Menlo\", monospace;;\n",
       "    font-size: 13px;\n",
       "    color: #555;\n",
       "    margin-left: 4px;\n",
       "    line-height: 19px;\n",
       "  }\n",
       "</style>\n",
       "<div class=\"ansiout\">+-----------+--------+------+----+---+---+-----+-----+------+----+-----+--------+\n",
       "PassengerId|Survived|Pclass|Name|Sex|Age|SibSp|Parch|Ticket|Fare|Cabin|Embarked|\n",
       "+-----------+--------+------+----+---+---+-----+-----+------+----+-----+--------+\n",
       "          0|       0|     0|   0|  0|162|    0|    0|     0|   0|  618|       2|\n",
       "+-----------+--------+------+----+---+---+-----+-----+------+----+-----+--------+\n",
       "\n",
       "+-----------+--------+------+----+---+---+-----+-----+------+----+-----+--------+\n",
       "PassengerId|Survived|Pclass|Name|Sex|Age|SibSp|Parch|Ticket|Fare|Cabin|Embarked|\n",
       "+-----------+--------+------+----+---+---+-----+-----+------+----+-----+--------+\n",
       "          0|       0|     0|   0|  0| 15|    0|    0|     0|   0|   69|       0|\n",
       "+-----------+--------+------+----+---+---+-----+-----+------+----+-----+--------+\n",
       "\n",
       "</div>"
      ]
     },
     "metadata": {},
     "output_type": "display_data"
    }
   ],
   "source": [
    "train_df.select([F.count(F.when(F.isnull(c), c)).alias(c) for c in train_df.columns]).show()\n",
    "test_df.select([F.count(F.when(F.isnull(c), c)).alias(c) for c in test_df.columns]).show()"
   ]
  },
  {
   "cell_type": "code",
   "execution_count": 6,
   "metadata": {},
   "outputs": [
    {
     "data": {
      "text/html": [
       "<style scoped>\n",
       "  .ansiout {\n",
       "    display: block;\n",
       "    unicode-bidi: embed;\n",
       "    white-space: pre-wrap;\n",
       "    word-wrap: break-word;\n",
       "    word-break: break-all;\n",
       "    font-family: \"Source Code Pro\", \"Menlo\", monospace;;\n",
       "    font-size: 13px;\n",
       "    color: #555;\n",
       "    margin-left: 4px;\n",
       "    line-height: 19px;\n",
       "  }\n",
       "</style>\n",
       "<div class=\"ansiout\">&lt;&gt;:3: DeprecationWarning: invalid escape sequence \\.\n",
       "&lt;&gt;:3: DeprecationWarning: invalid escape sequence \\.\n",
       "&lt;command-2671224804740862&gt;:3: DeprecationWarning: invalid escape sequence \\.\n",
       "  _df = df.withColumn(&#39;Initial&#39;,  F.regexp_extract( df[&#39;Name&#39;], (&#39;([A-Za-z]+)\\.&#39;),1 ) )\n",
       "</div>"
      ]
     },
     "metadata": {},
     "output_type": "display_data"
    }
   ],
   "source": [
    "def evaluate_initials(df: DataFrame) -> DataFrame:\n",
    "  dizip_initials = {k:v for k,v in (zip(['Mlle','Mme','Ms','Dr', 'Major','Lady','Countess', 'Jonkheer','Col','Rev', 'Capt','Sir','Don'], ['Miss','Miss','Miss', 'Mr','Mr','Mrs','Mrs', 'Other','Other','Other', 'Mr','Mr','Mr']))}\n",
    "  _df = df.withColumn('Initial',  F.regexp_extract( df['Name'], ('([A-Za-z]+)\\.'),1 ) )\n",
    "  _df = _df.replace(dizip_initials,1,'Initial')\n",
    "  return _df\n",
    "  \n",
    "def handle_missing_age(df: DataFrame) -> DataFrame:\n",
    "    _df = df\n",
    "    _df = _df.withColumn('Age', \n",
    "           F.when((F.isnull(_df['Age'])) & (_df['Initial'] == 'Mr') , 33 )\\\n",
    "            .otherwise(F.when((F.isnull(_df['Age'])) \n",
    "                              & (_df['Initial'] == 'Mrs') , 36)\\\n",
    "            .otherwise(F.when((F.isnull(_df['Age'])) \n",
    "                              & (_df['Initial'] == 'Master') , 5)\\\n",
    "            .otherwise(F.when((F.isnull(_df['Age'])) \n",
    "                              & (_df['Initial'] == 'Miss') , 22)\\\n",
    "            .otherwise(F.when((F.isnull(_df['Age'])) \n",
    "                              & (_df['Initial'] == 'Other') , 46)\\\n",
    "            .otherwise(_df['Age']) )))))\n",
    "    return _df\n",
    "\n",
    "def create_family_size(df: DataFrame) -> DataFrame:\n",
    "  _df = df.withColumn('FamilySize', df['Parch'] + df['SibSp'] + 1 )\n",
    "  return _df\n",
    "\n",
    "def create_is_alone(df: DataFrame) -> DataFrame:\n",
    "  _df = df.withColumn('IsAlone', F.when(df['FamilySize'] > 1, 0).otherwise(1))\n",
    "  return _df\n",
    "\n",
    "def create_fare_per_person(df: DataFrame) -> DataFrame:  \n",
    "  _df = df.withColumn('FarePerPerson', df['Fare'] /df['FamilySize'])\n",
    "  return _df\n",
    "\n",
    "def drop_rows_with_null(df: DataFrame, col) -> DataFrame:\n",
    "  _df = df = df.filter(df[col].isNotNull())\n",
    "  return _df\n",
    "\n",
    "def change_to_index(df: DataFrame, col) -> DataFrame:\n",
    "  indexer = StringIndexer(inputCol=col, outputCol='{0}_indexed'.format(col))\n",
    "  _df = indexer.fit(df).transform(df)\n",
    "  return _df\n",
    "\n",
    "def change_to_one_hot_encoded(df: DataFrame, cols) -> DataFrame:\n",
    "  for col in cols:\n",
    "    df = change_to_index(df, col)\n",
    "  col_indexed = ['{0}_indexed'.format(col) for col in cols]\n",
    "  col_encoded = ['{0}_encoded'.format(col) for col in cols]\n",
    "  encoder = OneHotEncoderEstimator(inputCols=col_indexed, outputCols=col_encoded)\n",
    "  _df = encoder.fit(df).transform(df)\n",
    "  return _df"
   ]
  },
  {
   "cell_type": "code",
   "execution_count": 7,
   "metadata": {},
   "outputs": [
    {
     "data": {
      "text/html": [
       "<style scoped>\n",
       "  .ansiout {\n",
       "    display: block;\n",
       "    unicode-bidi: embed;\n",
       "    white-space: pre-wrap;\n",
       "    word-wrap: break-word;\n",
       "    word-break: break-all;\n",
       "    font-family: \"Source Code Pro\", \"Menlo\", monospace;;\n",
       "    font-size: 13px;\n",
       "    color: #555;\n",
       "    margin-left: 4px;\n",
       "    line-height: 19px;\n",
       "  }\n",
       "</style>\n",
       "<div class=\"ansiout\"></div>"
      ]
     },
     "metadata": {},
     "output_type": "display_data"
    }
   ],
   "source": [
    "train_df = drop_rows_with_null(handle_missing_age(evaluate_initials(create_fare_per_person(create_is_alone(create_family_size(train_df))))), 'Embarked')\n",
    "test_df = handle_missing_age(evaluate_initials(create_fare_per_person(create_is_alone(create_family_size(test_df)))))"
   ]
  },
  {
   "cell_type": "code",
   "execution_count": 8,
   "metadata": {},
   "outputs": [
    {
     "data": {
      "text/html": [
       "<style scoped>\n",
       "  .ansiout {\n",
       "    display: block;\n",
       "    unicode-bidi: embed;\n",
       "    white-space: pre-wrap;\n",
       "    word-wrap: break-word;\n",
       "    word-break: break-all;\n",
       "    font-family: \"Source Code Pro\", \"Menlo\", monospace;;\n",
       "    font-size: 13px;\n",
       "    color: #555;\n",
       "    margin-left: 4px;\n",
       "    line-height: 19px;\n",
       "  }\n",
       "</style>\n",
       "<div class=\"ansiout\"></div>"
      ]
     },
     "metadata": {},
     "output_type": "display_data"
    }
   ],
   "source": [
    "train_df = change_to_one_hot_encoded(train_df, ['Sex', 'Initial', 'Embarked'])\n",
    "test_df = change_to_one_hot_encoded(test_df, ['Sex', 'Initial', 'Embarked'])\n"
   ]
  },
  {
   "cell_type": "code",
   "execution_count": 9,
   "metadata": {},
   "outputs": [
    {
     "data": {
      "text/html": [
       "<style scoped>\n",
       "  .ansiout {\n",
       "    display: block;\n",
       "    unicode-bidi: embed;\n",
       "    white-space: pre-wrap;\n",
       "    word-wrap: break-word;\n",
       "    word-break: break-all;\n",
       "    font-family: \"Source Code Pro\", \"Menlo\", monospace;;\n",
       "    font-size: 13px;\n",
       "    color: #555;\n",
       "    margin-left: 4px;\n",
       "    line-height: 19px;\n",
       "  }\n",
       "</style>\n",
       "<div class=\"ansiout\"></div>"
      ]
     },
     "metadata": {},
     "output_type": "display_data"
    }
   ],
   "source": [
    "cols_to_drop=['PassengerId', 'Cabin', 'Ticket', 'Name', 'Sex', 'Initial', 'Embarked']\n",
    "train_df = train_df.drop(*cols_to_drop)\n",
    "test_df = test_df.drop(*cols_to_drop)"
   ]
  },
  {
   "cell_type": "code",
   "execution_count": 10,
   "metadata": {},
   "outputs": [
    {
     "data": {
      "text/html": [
       "<style scoped>\n",
       "  .ansiout {\n",
       "    display: block;\n",
       "    unicode-bidi: embed;\n",
       "    white-space: pre-wrap;\n",
       "    word-wrap: break-word;\n",
       "    word-break: break-all;\n",
       "    font-family: \"Source Code Pro\", \"Menlo\", monospace;;\n",
       "    font-size: 13px;\n",
       "    color: #555;\n",
       "    margin-left: 4px;\n",
       "    line-height: 19px;\n",
       "  }\n",
       "</style>\n",
       "<div class=\"ansiout\">+--------+------+----+-----+-----+-------+----------+-------+------------------+-----------+---------------+----------------+-------------+---------------+----------------+\n",
       "Survived|Pclass| Age|SibSp|Parch|   Fare|FamilySize|IsAlone|     FarePerPerson|Sex_indexed|Initial_indexed|Embarked_indexed|  Sex_encoded|Initial_encoded|Embarked_encoded|\n",
       "+--------+------+----+-----+-----+-------+----------+-------+------------------+-----------+---------------+----------------+-------------+---------------+----------------+\n",
       "       0|     3|22.0|    1|    0|   7.25|         2|      0|             3.625|        0.0|            0.0|             0.0|(1,[0],[1.0])|  (4,[0],[1.0])|   (2,[0],[1.0])|\n",
       "       1|     1|38.0|    1|    0|71.2833|         2|      0|          35.64165|        1.0|            2.0|             1.0|    (1,[],[])|  (4,[2],[1.0])|   (2,[1],[1.0])|\n",
       "       1|     1|35.0|    1|    0|   53.1|         2|      0|             26.55|        1.0|            2.0|             0.0|    (1,[],[])|  (4,[2],[1.0])|   (2,[0],[1.0])|\n",
       "       0|     3|35.0|    0|    0|   8.05|         1|      1|              8.05|        0.0|            0.0|             0.0|(1,[0],[1.0])|  (4,[0],[1.0])|   (2,[0],[1.0])|\n",
       "       0|     3|33.0|    0|    0| 8.4583|         1|      1|            8.4583|        0.0|            0.0|             2.0|(1,[0],[1.0])|  (4,[0],[1.0])|       (2,[],[])|\n",
       "       0|     1|54.0|    0|    0|51.8625|         1|      1|           51.8625|        0.0|            0.0|             0.0|(1,[0],[1.0])|  (4,[0],[1.0])|   (2,[0],[1.0])|\n",
       "       0|     3| 2.0|    3|    1| 21.075|         5|      0|             4.215|        0.0|            3.0|             0.0|(1,[0],[1.0])|  (4,[3],[1.0])|   (2,[0],[1.0])|\n",
       "       1|     3|27.0|    0|    2|11.1333|         3|      0|            3.7111|        1.0|            2.0|             0.0|    (1,[],[])|  (4,[2],[1.0])|   (2,[0],[1.0])|\n",
       "       1|     2|14.0|    1|    0|30.0708|         2|      0|           15.0354|        1.0|            2.0|             1.0|    (1,[],[])|  (4,[2],[1.0])|   (2,[1],[1.0])|\n",
       "       1|     3| 4.0|    1|    1|   16.7|         3|      0| 5.566666666666666|        1.0|            1.0|             0.0|    (1,[],[])|  (4,[1],[1.0])|   (2,[0],[1.0])|\n",
       "       1|     1|58.0|    0|    0|  26.55|         1|      1|             26.55|        1.0|            1.0|             0.0|    (1,[],[])|  (4,[1],[1.0])|   (2,[0],[1.0])|\n",
       "       0|     3|20.0|    0|    0|   8.05|         1|      1|              8.05|        0.0|            0.0|             0.0|(1,[0],[1.0])|  (4,[0],[1.0])|   (2,[0],[1.0])|\n",
       "       0|     3|39.0|    1|    5| 31.275|         7|      0|4.4678571428571425|        0.0|            0.0|             0.0|(1,[0],[1.0])|  (4,[0],[1.0])|   (2,[0],[1.0])|\n",
       "       0|     3|14.0|    0|    0| 7.8542|         1|      1|            7.8542|        1.0|            1.0|             0.0|    (1,[],[])|  (4,[1],[1.0])|   (2,[0],[1.0])|\n",
       "       1|     2|55.0|    0|    0|   16.0|         1|      1|              16.0|        1.0|            2.0|             0.0|    (1,[],[])|  (4,[2],[1.0])|   (2,[0],[1.0])|\n",
       "       1|     2|33.0|    0|    0|   13.0|         1|      1|              13.0|        0.0|            0.0|             0.0|(1,[0],[1.0])|  (4,[0],[1.0])|   (2,[0],[1.0])|\n",
       "       0|     3|31.0|    1|    0|   18.0|         2|      0|               9.0|        1.0|            2.0|             0.0|    (1,[],[])|  (4,[2],[1.0])|   (2,[0],[1.0])|\n",
       "       1|     3|36.0|    0|    0|  7.225|         1|      1|             7.225|        1.0|            2.0|             1.0|    (1,[],[])|  (4,[2],[1.0])|   (2,[1],[1.0])|\n",
       "       0|     2|35.0|    0|    0|   26.0|         1|      1|              26.0|        0.0|            0.0|             0.0|(1,[0],[1.0])|  (4,[0],[1.0])|   (2,[0],[1.0])|\n",
       "       1|     2|34.0|    0|    0|   13.0|         1|      1|              13.0|        0.0|            0.0|             0.0|(1,[0],[1.0])|  (4,[0],[1.0])|   (2,[0],[1.0])|\n",
       "+--------+------+----+-----+-----+-------+----------+-------+------------------+-----------+---------------+----------------+-------------+---------------+----------------+\n",
       "only showing top 20 rows\n",
       "\n",
       "</div>"
      ]
     },
     "metadata": {},
     "output_type": "display_data"
    }
   ],
   "source": [
    "train_df.show()"
   ]
  },
  {
   "cell_type": "code",
   "execution_count": 11,
   "metadata": {},
   "outputs": [
    {
     "data": {
      "text/html": [
       "<style scoped>\n",
       "  .ansiout {\n",
       "    display: block;\n",
       "    unicode-bidi: embed;\n",
       "    white-space: pre-wrap;\n",
       "    word-wrap: break-word;\n",
       "    word-break: break-all;\n",
       "    font-family: \"Source Code Pro\", \"Menlo\", monospace;;\n",
       "    font-size: 13px;\n",
       "    color: #555;\n",
       "    margin-left: 4px;\n",
       "    line-height: 19px;\n",
       "  }\n",
       "</style>\n",
       "<div class=\"ansiout\"></div>"
      ]
     },
     "metadata": {},
     "output_type": "display_data"
    }
   ],
   "source": [
    "cols = [c for c in train_df.columns if c != 'Survived']\n",
    "vec_assembler = VectorAssembler(inputCols=cols, outputCol=\"features\")\n",
    "vec_train_DF = vec_assembler.transform(train_df)\n",
    "lr = LinearRegression(featuresCol=\"features\", labelCol=\"Survived\")\n",
    "lr_model = lr.fit(vec_train_DF)"
   ]
  },
  {
   "cell_type": "code",
   "execution_count": 12,
   "metadata": {},
   "outputs": [
    {
     "data": {
      "text/html": [
       "<style scoped>\n",
       "  .ansiout {\n",
       "    display: block;\n",
       "    unicode-bidi: embed;\n",
       "    white-space: pre-wrap;\n",
       "    word-wrap: break-word;\n",
       "    word-break: break-all;\n",
       "    font-family: \"Source Code Pro\", \"Menlo\", monospace;;\n",
       "    font-size: 13px;\n",
       "    color: #555;\n",
       "    margin-left: 4px;\n",
       "    line-height: 19px;\n",
       "  }\n",
       "</style>\n",
       "<div class=\"ansiout\">+--------+------+----+-----+-----+-------+----------+-------+-----------------+-----------+---------------+----------------+-------------+---------------+----------------+--------------------+-------------------+\n",
       "Survived|Pclass| Age|SibSp|Parch|   Fare|FamilySize|IsAlone|    FarePerPerson|Sex_indexed|Initial_indexed|Embarked_indexed|  Sex_encoded|Initial_encoded|Embarked_encoded|            features|         prediction|\n",
       "+--------+------+----+-----+-----+-------+----------+-------+-----------------+-----------+---------------+----------------+-------------+---------------+----------------+--------------------+-------------------+\n",
       "       1|     3|26.0|    0|    0|  7.925|         1|      1|            7.925|        1.0|            1.0|             0.0|    (1,[],[])|  (4,[1],[1.0])|   (2,[0],[1.0])|(18,[0,1,4,5,6,7,...| 0.5905510743011597|\n",
       "       0|     3| 2.0|    4|    1| 29.125|         6|      0|4.854166666666667|        0.0|            3.0|             2.0|(1,[0],[1.0])|  (4,[3],[1.0])|       (2,[],[])|[3.0,2.0,4.0,1.0,...| 0.5026026381839436|\n",
       "       0|     1|42.0|    1|    0|   52.0|         2|      0|             26.0|        0.0|            0.0|             0.0|(1,[0],[1.0])|  (4,[0],[1.0])|   (2,[0],[1.0])|(18,[0,1,2,4,5,7,...|0.34593756409002596|\n",
       "       0|     3| 7.0|    4|    1|39.6875|         6|      0|6.614583333333333|        0.0|            3.0|             0.0|(1,[0],[1.0])|  (4,[3],[1.0])|   (2,[0],[1.0])|[3.0,7.0,4.0,1.0,...| 0.4099846281289141|\n",
       "       0|     3|21.0|    0|    0|    7.8|         1|      1|              7.8|        0.0|            0.0|             0.0|(1,[0],[1.0])|  (4,[0],[1.0])|   (2,[0],[1.0])|(18,[0,1,4,5,6,7,...| 0.1104816241118205|\n",
       "       0|     2|34.0|    1|    0|   26.0|         2|      0|             13.0|        0.0|            0.0|             0.0|(1,[0],[1.0])|  (4,[0],[1.0])|   (2,[0],[1.0])|(18,[0,1,2,4,5,7,...|0.20233258877954152|\n",
       "       0|     3|16.0|    0|    0| 9.2167|         1|      1|           9.2167|        0.0|            0.0|             0.0|(1,[0],[1.0])|  (4,[0],[1.0])|   (2,[0],[1.0])|(18,[0,1,4,5,6,7,...|0.12901409255927887|\n",
       "       1|     3|22.0|    0|    0|   7.75|         1|      1|             7.75|        1.0|            1.0|             0.0|    (1,[],[])|  (4,[1],[1.0])|   (2,[0],[1.0])|(18,[0,1,4,5,6,7,...| 0.6049391507353366|\n",
       "       0|     3|21.0|    0|    0|  7.925|         1|      1|            7.925|        0.0|            0.0|             0.0|(1,[0],[1.0])|  (4,[0],[1.0])|   (2,[0],[1.0])|(18,[0,1,4,5,6,7,...|  0.110523460678571|\n",
       "       1|     1|44.0|    0|    0|27.7208|         1|      1|          27.7208|        1.0|            2.0|             1.0|    (1,[],[])|  (4,[2],[1.0])|   (2,[1],[1.0])|[1.0,44.0,0.0,0.0...| 1.0018375122637517|\n",
       "       1|     3| 5.0|    4|    2|31.3875|         7|      0|4.483928571428572|        1.0|            1.0|             0.0|    (1,[],[])|  (4,[1],[1.0])|   (2,[0],[1.0])|[3.0,5.0,4.0,2.0,...| 0.2912286516482445|\n",
       "       0|     2|24.0|    0|    0|   10.5|         1|      1|             10.5|        0.0|            0.0|             0.0|(1,[0],[1.0])|  (4,[0],[1.0])|   (2,[0],[1.0])|(18,[0,1,4,5,6,7,...|  0.260365813786285|\n",
       "       1|     3|29.0|    0|    2|15.2458|         3|      0|5.081933333333333|        1.0|            2.0|             1.0|    (1,[],[])|  (4,[2],[1.0])|   (2,[1],[1.0])|[3.0,29.0,0.0,2.0...| 0.6513212744347145|\n",
       "       0|     3|33.0|    0|    0|   7.75|         1|      1|             7.75|        0.0|            0.0|             2.0|(1,[0],[1.0])|  (4,[0],[1.0])|       (2,[],[])|(18,[0,1,4,5,6,7,...| 0.1479151426729084|\n",
       "       0|     2|36.0|    0|    0|   10.5|         1|      1|             10.5|        0.0|            0.0|             0.0|(1,[0],[1.0])|  (4,[0],[1.0])|   (2,[0],[1.0])|(18,[0,1,4,5,6,7,...| 0.2170258709034023|\n",
       "       1|     3|25.0|    0|    0|    0.0|         1|      1|              0.0|        0.0|            0.0|             0.0|(1,[0],[1.0])|  (4,[0],[1.0])|   (2,[0],[1.0])|(18,[0,1,5,6,11,1...|0.09342437471895959|\n",
       "       0|     3| 7.0|    4|    1| 29.125|         6|      0|4.854166666666667|        0.0|            3.0|             2.0|(1,[0],[1.0])|  (4,[3],[1.0])|       (2,[],[])|[3.0,7.0,4.0,1.0,...| 0.4845443286494092|\n",
       "       1|     1|26.0|    0|    0|  78.85|         1|      1|            78.85|        1.0|            1.0|             0.0|    (1,[],[])|  (4,[1],[1.0])|   (2,[0],[1.0])|(18,[0,1,4,5,6,7,...| 0.9339201533821605|\n",
       "       0|     3|24.0|    0|    0|   8.85|         1|      1|             8.85|        1.0|            1.0|             0.0|    (1,[],[])|  (4,[1],[1.0])|   (2,[0],[1.0])|(18,[0,1,4,5,6,7,...| 0.5980839887089275|\n",
       "       0|     3|22.0|    0|    0|   7.25|         1|      1|             7.25|        0.0|            0.0|             0.0|(1,[0],[1.0])|  (4,[0],[1.0])|   (2,[0],[1.0])|(18,[0,1,4,5,6,7,...|0.10668588131121126|\n",
       "+--------+------+----+-----+-----+-------+----------+-------+-----------------+-----------+---------------+----------------+-------------+---------------+----------------+--------------------+-------------------+\n",
       "only showing top 20 rows\n",
       "\n",
       "</div>"
      ]
     },
     "metadata": {},
     "output_type": "display_data"
    }
   ],
   "source": [
    "vec_test_df = vec_assembler.transform(test_df)\n",
    "pred_df = lr_model.transform(vec_test_df)\n",
    "pred_df.show()"
   ]
  },
  {
   "cell_type": "code",
   "execution_count": 13,
   "metadata": {},
   "outputs": [
    {
     "data": {
      "text/html": [
       "<style scoped>\n",
       "  .ansiout {\n",
       "    display: block;\n",
       "    unicode-bidi: embed;\n",
       "    white-space: pre-wrap;\n",
       "    word-wrap: break-word;\n",
       "    word-break: break-all;\n",
       "    font-family: \"Source Code Pro\", \"Menlo\", monospace;;\n",
       "    font-size: 13px;\n",
       "    color: #555;\n",
       "    margin-left: 4px;\n",
       "    line-height: 19px;\n",
       "  }\n",
       "</style>\n",
       "<div class=\"ansiout\">RMSE is 0.34149375724898745\n",
       "</div>"
      ]
     },
     "metadata": {},
     "output_type": "display_data"
    }
   ],
   "source": [
    "regression_evaluator = RegressionEvaluator(predictionCol=\"prediction\", labelCol=\"Survived\", metricName=\"rmse\")\n",
    "\n",
    "rmse = regression_evaluator.evaluate(pred_df)\n",
    "print(f\"RMSE is {rmse}\")"
   ]
  },
  {
   "cell_type": "code",
   "execution_count": 14,
   "metadata": {},
   "outputs": [
    {
     "data": {
      "text/html": [
       "<style scoped>\n",
       "  .ansiout {\n",
       "    display: block;\n",
       "    unicode-bidi: embed;\n",
       "    white-space: pre-wrap;\n",
       "    word-wrap: break-word;\n",
       "    word-break: break-all;\n",
       "    font-family: \"Source Code Pro\", \"Menlo\", monospace;;\n",
       "    font-size: 13px;\n",
       "    color: #555;\n",
       "    margin-left: 4px;\n",
       "    line-height: 19px;\n",
       "  }\n",
       "</style>\n",
       "<div class=\"ansiout\">&lt;&gt;:11: DeprecationWarning: invalid escape sequence \\.\n",
       "&lt;&gt;:11: DeprecationWarning: invalid escape sequence \\.\n",
       "&lt;command-3057669862061282&gt;:11: DeprecationWarning: invalid escape sequence \\.\n",
       "  _df = df.withColumn(&#39;Initial&#39;,  F.regexp_extract( df[&#39;Name&#39;], (&#39;([A-Za-z]+)\\.&#39;),1 ) )\n",
       "</div>"
      ]
     },
     "metadata": {},
     "output_type": "display_data"
    }
   ],
   "source": [
    "class InitialsTransformer(Transformer, DefaultParamsReadable, DefaultParamsWritable, DefaultParamsReader):\n",
    "  @keyword_only\n",
    "  def __init__(self):\n",
    "    super(InitialsTransformer, self).__init__()\n",
    "\n",
    "  def _transform(self, df: DataFrame) -> DataFrame:\n",
    "    dizip_initials = {k:v for k,v in (zip(['Mlle','Mme','Ms','Dr', 'Major','Lady','Countess', 'Jonkheer','Col','Rev', 'Capt','Sir','Don'], ['Miss','Miss','Miss', 'Mr','Mr','Mrs','Mrs', 'Other','Other','Other', 'Mr','Mr','Mr']))}\n",
    "    _df = df.withColumn('Initial',  F.regexp_extract( df['Name'], ('([A-Za-z]+)\\.'),1 ) )\n",
    "    _df = _df.replace(dizip_initials,1,'Initial')\n",
    "    return _df\n",
    "\n",
    "m = __import__(\"__main__\")\n",
    "setattr(m, 'InitialsTransformer', InitialsTransformer)\n",
    "  \n",
    "class MissingAgeTransformer(Transformer, DefaultParamsReadable, DefaultParamsWritable):\n",
    "  @keyword_only\n",
    "  def __init__(self):\n",
    "    super(MissingAgeTransformer, self).__init__()\n",
    "\n",
    "  def _transform(self, df: DataFrame) -> DataFrame:\n",
    "    _df = df\n",
    "    _df = _df.withColumn('Age', \n",
    "           F.when((F.isnull(_df['Age'])) & (_df['Initial'] == 'Mr') , 33 )\\\n",
    "            .otherwise(F.when((F.isnull(_df['Age'])) \n",
    "                              & (_df['Initial'] == 'Mrs') , 36)\\\n",
    "            .otherwise(F.when((F.isnull(_df['Age'])) \n",
    "                              & (_df['Initial'] == 'Master') , 5)\\\n",
    "            .otherwise(F.when((F.isnull(_df['Age'])) \n",
    "                              & (_df['Initial'] == 'Miss') , 22)\\\n",
    "            .otherwise(F.when((F.isnull(_df['Age'])) \n",
    "                              & (_df['Initial'] == 'Other') , 46)\\\n",
    "            .otherwise(_df['Age']) )))))\n",
    "    return _df\n",
    "\n",
    "setattr(m, 'MissingAgeTransformer', MissingAgeTransformer)\n",
    "  \n",
    "class FamilySizeTransformer(Transformer, DefaultParamsReadable, DefaultParamsWritable):\n",
    "  @keyword_only\n",
    "  def __init__(self):\n",
    "    super(FamilySizeTransformer, self).__init__()\n",
    "\n",
    "  def _transform(self, df: DataFrame) -> DataFrame:\n",
    "    _df = df.withColumn('FamilySize', df['Parch'] + df['SibSp'] + 1 )\n",
    "    return _df\n",
    "\n",
    "setattr(m, 'FamilySizeTransformer', FamilySizeTransformer)\n",
    "  \n",
    "class IsAloneTransformer(Transformer, DefaultParamsReadable, DefaultParamsWritable):\n",
    "  @keyword_only\n",
    "  def __init__(self):\n",
    "    super(IsAloneTransformer, self).__init__()\n",
    "\n",
    "  def _transform(self, df: DataFrame) -> DataFrame:\n",
    "    _df = df.withColumn('IsAlone', F.when(df['FamilySize'] > 1, 0).otherwise(1))\n",
    "    return _df\n",
    "\n",
    "setattr(m, 'IsAloneTransformer', IsAloneTransformer)\n",
    "  \n",
    "class FarePerPersonTransformer(Transformer, DefaultParamsReadable, DefaultParamsWritable):\n",
    "  @keyword_only\n",
    "  def __init__(self):\n",
    "    super(FarePerPersonTransformer, self).__init__()\n",
    "\n",
    "  def _transform(self, df: DataFrame) -> DataFrame:  \n",
    "    _df = df.withColumn('FarePerPerson', df['Fare'] /df['FamilySize'])\n",
    "    return _df\n",
    "\n",
    "setattr(m, 'FarePerPersonTransformer', FarePerPersonTransformer)\n",
    "  \n",
    "class DropRowsWithNullTransformer(Transformer, DefaultParamsReadable, DefaultParamsWritable):\n",
    "  def __init__(self): \n",
    "    super(DropRowsWithNullTransformer, self).__init__()\n",
    "  \n",
    "  col = Param(Params._dummy(), \"col\", \"column\", typeConverter=TypeConverters.toString)\n",
    "\n",
    "  def setCol(self, value):\n",
    "      return self._set(col=value)\n",
    "\n",
    "  def getCol(self):\n",
    "      return self.getOrDefault(self.col)\n",
    "\n",
    "  def _transform(self, df: DataFrame) -> DataFrame:\n",
    "    _df = df = df.filter(df[self.getCol()].isNotNull())\n",
    "    return _df\n",
    "\n",
    "setattr(m, 'DropRowsWithNullTransformer', DropRowsWithNullTransformer)\n",
    "  \n",
    "class CategoryToIndexTransformer(Transformer, DefaultParamsReadable, DefaultParamsWritable):\n",
    "  def __init__(self): \n",
    "    super(CategoryToIndexTransformer, self).__init__()\n",
    "\n",
    "  col = Param(Params._dummy(), \"col\", \"column\", typeConverter=TypeConverters.toString)\n",
    "\n",
    "  def setCol(self, value):\n",
    "      return self._set(col=value)\n",
    "\n",
    "  def getCol(self):\n",
    "      return self.getOrDefault(self.col)\n",
    "\n",
    "  def _transform(self, df: DataFrame) -> DataFrame:\n",
    "    indexer = StringIndexer(inputCol=self.getCol(), outputCol='{0}_indexed'.format(self.getCol()))\n",
    "    _df = indexer.fit(df).transform(df)\n",
    "    return _df\n",
    "\n",
    "setattr(m, 'CategoryToIndexTransformer', CategoryToIndexTransformer)\n",
    "  \n",
    "class CategoryToOneHotEncodedTransformer(Transformer, DefaultParamsReadable, DefaultParamsWritable):\n",
    "  def __init__(self): \n",
    "    super(CategoryToOneHotEncodedTransformer, self).__init__()\n",
    "\n",
    "  cols = Param(Params._dummy(), \"cols\", \"columns\", typeConverter=TypeConverters.toListString)\n",
    "\n",
    "  def setCols(self, value):\n",
    "      return self._set(cols=value)\n",
    "\n",
    "  def getCols(self):\n",
    "      return self.getOrDefault(self.cols)\n",
    "\n",
    "  def _transform(self, df: DataFrame) -> DataFrame:\n",
    "    for col in self.getCols():\n",
    "      cat_to_index = CategoryToIndexTransformer()\n",
    "      cat_to_index.setCol(col)\n",
    "      df = cat_to_index.transform(df)\n",
    "    col_indexed = ['{0}_indexed'.format(col) for col in self.getCols()]\n",
    "    col_encoded = ['{0}_encoded'.format(col) for col in self.getCols()]\n",
    "    encoder = OneHotEncoderEstimator(inputCols=col_indexed, outputCols=col_encoded)\n",
    "    _df = encoder.fit(df).transform(df)\n",
    "    return _df\n",
    "\n",
    "setattr(m, 'CategoryToOneHotEncodedTransformer', CategoryToOneHotEncodedTransformer)\n",
    "  \n",
    "class DropStringColsTransformer(Transformer, DefaultParamsReadable, DefaultParamsWritable):\n",
    "  def __init__(self): \n",
    "    super(DropStringColsTransformer, self).__init__()\n",
    "\n",
    "  cols = Param(Params._dummy(), \"cols\", \"columns\", typeConverter=TypeConverters.toListString)\n",
    "\n",
    "  def setCols(self, value):\n",
    "      return self._set(cols=value)\n",
    "\n",
    "  def getCols(self):\n",
    "      return self.getOrDefault(self.cols)\n",
    "    \n",
    "  def _transform(self, df: DataFrame) -> DataFrame:\n",
    "    df = df.drop(*self.getCols())\n",
    "    return df\n",
    "\n",
    "setattr(m, 'DropStringColsTransformer', DropStringColsTransformer)"
   ]
  },
  {
   "cell_type": "code",
   "execution_count": 15,
   "metadata": {},
   "outputs": [
    {
     "data": {
      "text/html": [
       "<style scoped>\n",
       "  .ansiout {\n",
       "    display: block;\n",
       "    unicode-bidi: embed;\n",
       "    white-space: pre-wrap;\n",
       "    word-wrap: break-word;\n",
       "    word-break: break-all;\n",
       "    font-family: \"Source Code Pro\", \"Menlo\", monospace;;\n",
       "    font-size: 13px;\n",
       "    color: #555;\n",
       "    margin-left: 4px;\n",
       "    line-height: 19px;\n",
       "  }\n",
       "</style>\n",
       "<div class=\"ansiout\"></div>"
      ]
     },
     "metadata": {},
     "output_type": "display_data"
    }
   ],
   "source": [
    "data = spark.read.csv(\"wasbs://data@sparkmltrainig.blob.core.windows.net/train.csv\", inferSchema = True, header = True)\n",
    "\n",
    "train_df, test_df = data.randomSplit([0.9, 0.1], seed=42)\n"
   ]
  },
  {
   "cell_type": "code",
   "execution_count": 16,
   "metadata": {},
   "outputs": [
    {
     "data": {
      "text/html": [
       "<style scoped>\n",
       "  .ansiout {\n",
       "    display: block;\n",
       "    unicode-bidi: embed;\n",
       "    white-space: pre-wrap;\n",
       "    word-wrap: break-word;\n",
       "    word-break: break-all;\n",
       "    font-family: \"Source Code Pro\", \"Menlo\", monospace;;\n",
       "    font-size: 13px;\n",
       "    color: #555;\n",
       "    margin-left: 4px;\n",
       "    line-height: 19px;\n",
       "  }\n",
       "</style>\n",
       "<div class=\"ansiout\"></div>"
      ]
     },
     "metadata": {},
     "output_type": "display_data"
    }
   ],
   "source": [
    "stages = []\n",
    "init_trans = InitialsTransformer()\n",
    "missing_age_trans = MissingAgeTransformer()\n",
    "family_size_trans = FamilySizeTransformer()\n",
    "is_alone_trans = IsAloneTransformer()\n",
    "fare_per_person_trans = FarePerPersonTransformer()\n",
    "drop_rows_with_null_trans = DropRowsWithNullTransformer()\n",
    "drop_rows_with_null_trans.setCol('Embarked')\n",
    "cat_to_one_how_trans = CategoryToOneHotEncodedTransformer()\n",
    "cat_to_one_how_trans.setCols(['Sex', 'Initial', 'Embarked'])\n",
    "drop_trans = DropStringColsTransformer()\n",
    "drop_trans.setCols(['PassengerId', 'Cabin', 'Ticket', 'Name', 'Sex', 'Initial', 'Embarked'])\n",
    "\n",
    "cols = ['Pclass', 'Age', 'SibSp', 'Parch', 'Fare', 'FamilySize', 'IsAlone', 'FarePerPerson', 'Sex_indexed', 'Initial_indexed', 'Embarked_indexed', 'Sex_encoded', 'Initial_encoded', 'Embarked_encoded']\n",
    "#cols = ['Pclass', 'Age', 'SibSp', 'Parch', 'Fare', 'FamilySize', 'IsAlone', 'FarePerPerson']\n",
    "vec_assembler = VectorAssembler(inputCols=cols, outputCol=\"Features\")\n",
    "lr = LinearRegression(featuresCol=\"Features\", labelCol=\"Survived\")\n",
    "\n",
    "stages = [init_trans, family_size_trans, is_alone_trans, fare_per_person_trans, missing_age_trans, drop_rows_with_null_trans, cat_to_one_how_trans, drop_trans, vec_assembler, lr]\n",
    "#stages = [init_trans, family_size_trans, is_alone_trans, fare_per_person_trans, missing_age_trans, drop_rows_with_null_trans, vec_assembler, lr]\n",
    "\n",
    "pipeline = Pipeline(stages=stages)\n",
    "\n",
    "pipelineModel = pipeline.fit(train_df)"
   ]
  },
  {
   "cell_type": "code",
   "execution_count": 17,
   "metadata": {},
   "outputs": [
    {
     "data": {
      "text/html": [
       "<style scoped>\n",
       "  .ansiout {\n",
       "    display: block;\n",
       "    unicode-bidi: embed;\n",
       "    white-space: pre-wrap;\n",
       "    word-wrap: break-word;\n",
       "    word-break: break-all;\n",
       "    font-family: \"Source Code Pro\", \"Menlo\", monospace;;\n",
       "    font-size: 13px;\n",
       "    color: #555;\n",
       "    margin-left: 4px;\n",
       "    line-height: 19px;\n",
       "  }\n",
       "</style>\n",
       "<div class=\"ansiout\"></div>"
      ]
     },
     "metadata": {},
     "output_type": "display_data"
    }
   ],
   "source": [
    "pipelinePath = \"/tmp/lr_pipeline_model\"\n",
    "pipelineModel.write().overwrite().save(pipelinePath)"
   ]
  },
  {
   "cell_type": "code",
   "execution_count": 18,
   "metadata": {},
   "outputs": [
    {
     "data": {
      "text/html": [
       "<style scoped>\n",
       "  .ansiout {\n",
       "    display: block;\n",
       "    unicode-bidi: embed;\n",
       "    white-space: pre-wrap;\n",
       "    word-wrap: break-word;\n",
       "    word-break: break-all;\n",
       "    font-family: \"Source Code Pro\", \"Menlo\", monospace;;\n",
       "    font-size: 13px;\n",
       "    color: #555;\n",
       "    margin-left: 4px;\n",
       "    line-height: 19px;\n",
       "  }\n",
       "</style>\n",
       "<div class=\"ansiout\"></div>"
      ]
     },
     "metadata": {},
     "output_type": "display_data"
    }
   ],
   "source": [
    "\n",
    "#stages = [init_trans, family_size_trans, is_alone_trans, fare_per_person_trans, missing_age_trans, drop_rows_with_null_trans, cat_to_one_how_trans, drop_trans, vec_assembler]\n",
    "\n",
    "#test_df_transformed = vec_assembler.transform(drop_trans.transform(cat_to_one_how_trans.transform(drop_rows_with_null_trans.transform(missing_age_trans.transform(fare_per_person_trans.transform(is_alone_trans.transform(family_size_trans.transform(init_trans.transform(test_df)))))))))"
   ]
  },
  {
   "cell_type": "code",
   "execution_count": 19,
   "metadata": {},
   "outputs": [
    {
     "data": {
      "text/html": [
       "<style scoped>\n",
       "  .ansiout {\n",
       "    display: block;\n",
       "    unicode-bidi: embed;\n",
       "    white-space: pre-wrap;\n",
       "    word-wrap: break-word;\n",
       "    word-break: break-all;\n",
       "    font-family: \"Source Code Pro\", \"Menlo\", monospace;;\n",
       "    font-size: 13px;\n",
       "    color: #555;\n",
       "    margin-left: 4px;\n",
       "    line-height: 19px;\n",
       "  }\n",
       "</style>\n",
       "<div class=\"ansiout\">+-----------+--------+------+--------------------+------+----+-----+-----+-----------------+-------+-----+--------+\n",
       "PassengerId|Survived|Pclass|                Name|   Sex| Age|SibSp|Parch|           Ticket|   Fare|Cabin|Embarked|\n",
       "+-----------+--------+------+--------------------+------+----+-----+-----+-----------------+-------+-----+--------+\n",
       "          3|       1|     3|Heikkinen, Miss. ...|female|26.0|    0|    0| STON/O2. 3101282|  7.925| null|       S|\n",
       "         17|       0|     3|Rice, Master. Eugene|  male| 2.0|    4|    1|           382652| 29.125| null|       Q|\n",
       "         36|       0|     1|Holverson, Mr. Al...|  male|42.0|    1|    0|           113789|   52.0| null|       S|\n",
       "         51|       0|     3|Panula, Master. J...|  male| 7.0|    4|    1|          3101295|39.6875| null|       S|\n",
       "         52|       0|     3|Nosworthy, Mr. Ri...|  male|21.0|    0|    0|       A/4. 39886|    7.8| null|       S|\n",
       "        100|       0|     2|   Kantor, Mr. Sinai|  male|34.0|    1|    0|           244367|   26.0| null|       S|\n",
       "        139|       0|     3| Osen, Mr. Olaf Elon|  male|16.0|    0|    0|             7534| 9.2167| null|       S|\n",
       "        142|       1|     3|Nysten, Miss. Ann...|female|22.0|    0|    0|           347081|   7.75| null|       S|\n",
       "        174|       0|     3|Sivola, Mr. Antti...|  male|21.0|    0|    0|STON/O 2. 3101280|  7.925| null|       S|\n",
       "        195|       1|     1|Brown, Mrs. James...|female|44.0|    0|    0|         PC 17610|27.7208|   B4|       C|\n",
       "        234|       1|     3|Asplund, Miss. Li...|female| 5.0|    4|    2|           347077|31.3875| null|       S|\n",
       "        235|       0|     2|Leyson, Mr. Rober...|  male|24.0|    0|    0|       C.A. 29566|   10.5| null|       S|\n",
       "        256|       1|     3|Touma, Mrs. Darwi...|female|29.0|    0|    2|             2650|15.2458| null|       C|\n",
       "        261|       0|     3|   Smith, Mr. Thomas|  male|null|    0|    0|           384461|   7.75| null|       Q|\n",
       "        266|       0|     2|   Reeves, Mr. David|  male|36.0|    0|    0|       C.A. 17248|   10.5| null|       S|\n",
       "        272|       1|     3|Tornquist, Mr. Wi...|  male|25.0|    0|    0|             LINE|    0.0| null|       S|\n",
       "        279|       0|     3|  Rice, Master. Eric|  male| 7.0|    4|    1|           382652| 29.125| null|       Q|\n",
       "        291|       1|     1|&#34;Barber, Miss. El...|female|26.0|    0|    0|            19877|  78.85| null|       S|\n",
       "        294|       0|     3| Haas, Miss. Aloisia|female|24.0|    0|    0|           349236|   8.85| null|       S|\n",
       "        321|       0|     3|  Dennis, Mr. Samuel|  male|22.0|    0|    0|        A/5 21172|   7.25| null|       S|\n",
       "+-----------+--------+------+--------------------+------+----+-----+-----+-----------------+-------+-----+--------+\n",
       "only showing top 20 rows\n",
       "\n",
       "</div>"
      ]
     },
     "metadata": {},
     "output_type": "display_data"
    }
   ],
   "source": [
    "test_df.show()"
   ]
  },
  {
   "cell_type": "code",
   "execution_count": 20,
   "metadata": {},
   "outputs": [
    {
     "data": {
      "text/html": [
       "<style scoped>\n",
       "  .ansiout {\n",
       "    display: block;\n",
       "    unicode-bidi: embed;\n",
       "    white-space: pre-wrap;\n",
       "    word-wrap: break-word;\n",
       "    word-break: break-all;\n",
       "    font-family: \"Source Code Pro\", \"Menlo\", monospace;;\n",
       "    font-size: 13px;\n",
       "    color: #555;\n",
       "    margin-left: 4px;\n",
       "    line-height: 19px;\n",
       "  }\n",
       "</style>\n",
       "<div class=\"ansiout\"></div>"
      ]
     },
     "metadata": {},
     "output_type": "display_data"
    }
   ],
   "source": [
    "savedPipelineModel = PipelineModel.load(pipelinePath)\n",
    "pred_df = savedPipelineModel.transform(test_df)\n"
   ]
  },
  {
   "cell_type": "code",
   "execution_count": 21,
   "metadata": {},
   "outputs": [
    {
     "data": {
      "text/html": [
       "<style scoped>\n",
       "  .ansiout {\n",
       "    display: block;\n",
       "    unicode-bidi: embed;\n",
       "    white-space: pre-wrap;\n",
       "    word-wrap: break-word;\n",
       "    word-break: break-all;\n",
       "    font-family: \"Source Code Pro\", \"Menlo\", monospace;;\n",
       "    font-size: 13px;\n",
       "    color: #555;\n",
       "    margin-left: 4px;\n",
       "    line-height: 19px;\n",
       "  }\n",
       "</style>\n",
       "<div class=\"ansiout\">RMSE is 0.34149375724898745\n",
       "</div>"
      ]
     },
     "metadata": {},
     "output_type": "display_data"
    }
   ],
   "source": [
    "regression_evaluator = RegressionEvaluator(predictionCol=\"prediction\", labelCol=\"Survived\", metricName=\"rmse\")\n",
    "\n",
    "rmse = regression_evaluator.evaluate(pred_df)\n",
    "print(f\"RMSE is {rmse}\")"
   ]
  },
  {
   "cell_type": "code",
   "execution_count": 22,
   "metadata": {},
   "outputs": [],
   "source": []
  }
 ],
 "metadata": {
  "kernelspec": {
   "display_name": "Python 2",
   "language": "python",
   "name": "python2"
  },
  "language_info": {
   "codemirror_mode": {
    "name": "ipython",
    "version": 2
   },
   "file_extension": ".py",
   "mimetype": "text/x-python",
   "name": "python",
   "nbconvert_exporter": "python",
   "pygments_lexer": "ipython2",
   "version": "2.7.14"
  },
  "name": "Titanic_exercise_full",
  "notebookId": 1142035819791626
 },
 "nbformat": 4,
 "nbformat_minor": 1
}
